{
 "cells": [
  {
   "cell_type": "markdown",
   "metadata": {},
   "source": [
    "A+B - 3<br />\n",
    "https://www.acmicpc.net/problem/10950"
   ]
  },
  {
   "cell_type": "code",
   "execution_count": 1,
   "metadata": {},
   "outputs": [
    {
     "name": "stdout",
     "output_type": "stream",
     "text": [
      "5\n",
      "1 1\n",
      "2\n",
      "2 3\n",
      "5\n",
      "3 4\n",
      "7\n",
      "9 8\n",
      "17\n",
      "5 2\n",
      "7\n"
     ]
    }
   ],
   "source": [
    "T = int(input())\n",
    "for t in range(T):\n",
    "    A, B = map(int, input().split())\n",
    "    print(A+B)"
   ]
  },
  {
   "cell_type": "code",
   "execution_count": null,
   "metadata": {},
   "outputs": [],
   "source": []
  }
 ],
 "metadata": {
  "kernelspec": {
   "display_name": "Python 3",
   "language": "python",
   "name": "python3"
  },
  "language_info": {
   "codemirror_mode": {
    "name": "ipython",
    "version": 3
   },
   "file_extension": ".py",
   "mimetype": "text/x-python",
   "name": "python",
   "nbconvert_exporter": "python",
   "pygments_lexer": "ipython3",
   "version": "3.7.1"
  }
 },
 "nbformat": 4,
 "nbformat_minor": 2
}
