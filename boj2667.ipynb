{
 "cells": [
  {
   "cell_type": "markdown",
   "metadata": {},
   "source": [
    "단지번호붙이기<br />\n",
    "https://www.acmicpc.net/problem/2667"
   ]
  },
  {
   "cell_type": "code",
   "execution_count": 1,
   "metadata": {
    "scrolled": true
   },
   "outputs": [
    {
     "name": "stdout",
     "output_type": "stream",
     "text": [
      "7\n",
      "0110100\n",
      "0110101\n",
      "1110101\n",
      "0000111\n",
      "0100000\n",
      "0111110\n",
      "0111000\n",
      "3\n",
      "7\n",
      "8\n",
      "9\n"
     ]
    }
   ],
   "source": [
    "def check(x, y):\n",
    "    return 0 <= x < N and 0 <= y < N\n",
    "\n",
    "def dfs(cx, cy):\n",
    "    global size\n",
    "    map[cx][cy] *= -1\n",
    "    for _ in range(4):\n",
    "        nx = cx + dx[_]\n",
    "        ny = cy + dy[_]\n",
    "        if not check(nx, ny):\n",
    "            continue\n",
    "        if map[nx][ny] == 1:\n",
    "            size += 1\n",
    "            dfs(nx, ny)\n",
    "\n",
    "N = int(input())\n",
    "map = [[*map(int, input())] for _ in range(N)]\n",
    "\n",
    "dx, dy = [1, 0, -1, 0], [0, 1, 0, -1]\n",
    "complex = []\n",
    "for i in range(N):\n",
    "    for j in range(N):\n",
    "        if map[i][j] == 1:\n",
    "            size = 1\n",
    "            dfs(i, j)\n",
    "            complex.append(size)\n",
    "print(len(complex))\n",
    "for _ in sorted(complex):\n",
    "    print(_)"
   ]
  },
  {
   "cell_type": "code",
   "execution_count": null,
   "metadata": {},
   "outputs": [],
   "source": [
    "3\n"
   ]
  }
 ],
 "metadata": {
  "kernelspec": {
   "display_name": "Python 3",
   "language": "python",
   "name": "python3"
  },
  "language_info": {
   "codemirror_mode": {
    "name": "ipython",
    "version": 3
   },
   "file_extension": ".py",
   "mimetype": "text/x-python",
   "name": "python",
   "nbconvert_exporter": "python",
   "pygments_lexer": "ipython3",
   "version": "3.7.1"
  }
 },
 "nbformat": 4,
 "nbformat_minor": 2
}
