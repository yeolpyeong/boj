{
 "cells": [
  {
   "cell_type": "markdown",
   "metadata": {},
   "source": [
    "열 개씩 끊어 출력하기<br />\n",
    "https://www.acmicpc.net/problem/11721"
   ]
  },
  {
   "cell_type": "code",
   "execution_count": 1,
   "metadata": {},
   "outputs": [
    {
     "name": "stdout",
     "output_type": "stream",
     "text": [
      "BaekjoonOnlineJudge\n",
      "BaekjoonOn\n",
      "lineJudge\n"
     ]
    }
   ],
   "source": [
    "word = input()\n",
    "while word:\n",
    "    print(word[:10])\n",
    "    word = word[10:]"
   ]
  },
  {
   "cell_type": "code",
   "execution_count": null,
   "metadata": {},
   "outputs": [],
   "source": []
  }
 ],
 "metadata": {
  "kernelspec": {
   "display_name": "Python 3",
   "language": "python",
   "name": "python3"
  },
  "language_info": {
   "codemirror_mode": {
    "name": "ipython",
    "version": 3
   },
   "file_extension": ".py",
   "mimetype": "text/x-python",
   "name": "python",
   "nbconvert_exporter": "python",
   "pygments_lexer": "ipython3",
   "version": "3.7.1"
  }
 },
 "nbformat": 4,
 "nbformat_minor": 2
}
